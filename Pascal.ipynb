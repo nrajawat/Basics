{
 "cells": [
  {
   "cell_type": "code",
   "execution_count": 1,
   "id": "81e15d61-b2be-4e0c-ad85-632a3bbb76c5",
   "metadata": {},
   "outputs": [],
   "source": [
    "from typing import List\n",
    "\n",
    "class Solution:\n",
    "    def generate(self, numRows: int) -> List[List[int]]:\n",
    "        if numRows <= 0:\n",
    "            return []\n",
    "\n",
    "        pascal_T = [[1]]\n",
    "        for i in range(1, numRows):\n",
    "            prev_row = pascal_T[i-1]\n",
    "            curr_row = [1]\n",
    "\n",
    "            for j in range(1, i):\n",
    "                curr_row.append(prev_row[j-1] + prev_row[j])\n",
    "\n",
    "            curr_row.append(1)\n",
    "            pascal_T.append(curr_row)\n",
    "            \n",
    "        return pascal_T"
   ]
  },
  {
   "cell_type": "code",
   "execution_count": null,
   "id": "9b26e0a9-d88e-4dd6-b123-f79096817307",
   "metadata": {},
   "outputs": [],
   "source": []
  },
  {
   "cell_type": "code",
   "execution_count": null,
   "id": "fb32e1fe-1235-4e35-8e19-2605d5372aa7",
   "metadata": {},
   "outputs": [],
   "source": [
    "from typing import List\n",
    "\n",
    "class Solution:\n",
    "    def generate(self, numRows: int) -> List[List[int]]:\n",
    "        if numRows <= 0:\n",
    "            return []\n",
    "\n",
    "        pascal_triangle = [[1]]\n",
    "\n",
    "        for i in range(1, numRows):\n",
    "            prev_row = pascal_triangle[i - 1]\n",
    "            curr_row = [1]\n",
    "\n",
    "            for j in range(1, i):\n",
    "                curr_row.append(prev_row[j - 1] + prev_row[j])\n",
    "\n",
    "            curr_row.append(1)\n",
    "            pascal_triangle.append(curr_row)\n",
    "\n",
    "        return pascal_triangle\n"
   ]
  }
 ],
 "metadata": {
  "kernelspec": {
   "display_name": "Python 3 (ipykernel)",
   "language": "python",
   "name": "python3"
  },
  "language_info": {
   "codemirror_mode": {
    "name": "ipython",
    "version": 3
   },
   "file_extension": ".py",
   "mimetype": "text/x-python",
   "name": "python",
   "nbconvert_exporter": "python",
   "pygments_lexer": "ipython3",
   "version": "3.11.2"
  }
 },
 "nbformat": 4,
 "nbformat_minor": 5
}
