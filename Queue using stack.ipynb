{
 "cells": [
  {
   "cell_type": "code",
   "execution_count": 1,
   "id": "7cbff4a2",
   "metadata": {},
   "outputs": [],
   "source": [
    "class MyQueue:\n",
    "    \n",
    "    def __init__(self):\n",
    "        self.stack_push = []\n",
    "        self.stack_pop = []\n",
    "        \n",
    "    def push(self, x:int) -> None:\n",
    "        self.stack_push.append(x)\n",
    "        \n",
    "    def pop(self) -> int:\n",
    "        if not self.stack_pop:\n",
    "            while slef.stack_push:\n",
    "                self.stack_pop.append(self.stack_push.pop())\n",
    "        return self.stack_pop.pop()\n",
    "    \n",
    "    def peek(self) ->int:\n",
    "        if not self.stack_pop:\n",
    "            while self.stack_push:\n",
    "                self.stack_pop.append(self.stack_push.pop())\n",
    "        return self.stack_pop[-1]\n",
    "    \n",
    "    def empty(self) -> bool:\n",
    "        return not self.stack_push and not self.stack_pop\n",
    "        "
   ]
  },
  {
   "cell_type": "code",
   "execution_count": null,
   "id": "27ae0503",
   "metadata": {},
   "outputs": [],
   "source": [
    "class MyQueue:\n",
    "\n",
    "    def __init__(self):\n",
    "        self.stack_push = []\n",
    "        self.stack_pop = []\n",
    "\n",
    "    def push(self, x: int) -> None:\n",
    "        self.stack_push.append(x)\n",
    "\n",
    "    def pop(self) -> int:\n",
    "        if not self.stack_pop:\n",
    "            while self.stack_push:\n",
    "                self.stack_pop.append(self.stack_push.pop())\n",
    "        return self.stack_pop.pop()\n",
    "\n",
    "    def peek(self) -> int:\n",
    "        if not self.stack_pop:\n",
    "            while self.stack_push:\n",
    "                self.stack_pop.append(self.stack_push.pop())\n",
    "        return self.stack_pop[-1]\n",
    "\n",
    "    def empty(self) -> bool:\n",
    "        return not self.stack_push and not self.stack_pop\n"
   ]
  }
 ],
 "metadata": {
  "kernelspec": {
   "display_name": "Python 3 (ipykernel)",
   "language": "python",
   "name": "python3"
  },
  "language_info": {
   "codemirror_mode": {
    "name": "ipython",
    "version": 3
   },
   "file_extension": ".py",
   "mimetype": "text/x-python",
   "name": "python",
   "nbconvert_exporter": "python",
   "pygments_lexer": "ipython3",
   "version": "3.11.2"
  }
 },
 "nbformat": 4,
 "nbformat_minor": 5
}
