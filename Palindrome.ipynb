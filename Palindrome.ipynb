{
 "cells": [
  {
   "cell_type": "code",
   "execution_count": 6,
   "id": "0d6132c5-0d22-4ca2-b92c-d503030ac4be",
   "metadata": {},
   "outputs": [],
   "source": [
    "class Solution:\n",
    "    def isPalindrome(self, x: int) -> bool:\n",
    "        if x < 0:\n",
    "            return False\n",
    "        s=0\n",
    "        t=x\n",
    "\n",
    "        while x > 0:\n",
    "            r =  x % 10\n",
    "            x = x // 10\n",
    "            s = (s * 10) * r\n",
    "\n",
    "        if s == t:\n",
    "            return True\n",
    "        else:\n",
    "            return False\n",
    "        \n",
    "\n",
    "        print(s)   "
   ]
  },
  {
   "cell_type": "code",
   "execution_count": null,
   "id": "9286130d-7110-424f-8dcb-05d44fdd45eb",
   "metadata": {},
   "outputs": [],
   "source": [
    "class Solution:\n",
    "    def isPalindrome(self, x: int) -> bool:\n",
    "        if x < 0:\n",
    "            return False\n",
    "\n",
    "        s = 0\n",
    "        t = x\n",
    "\n",
    "        while x > 0:\n",
    "            r = x % 10\n",
    "            x = x // 10  # Use integer division to get the next digit\n",
    "            s = (s * 10) + r  # Multiply s by 10 and add the next digit\n",
    "\n",
    "        return s == t\n",
    "\n",
    "# Example usage:\n",
    "x = 12321\n",
    "sol = Solution()\n",
    "print(sol.isPalindrome(x))  # Output: True\n"
   ]
  }
 ],
 "metadata": {
  "kernelspec": {
   "display_name": "Python 3 (ipykernel)",
   "language": "python",
   "name": "python3"
  },
  "language_info": {
   "codemirror_mode": {
    "name": "ipython",
    "version": 3
   },
   "file_extension": ".py",
   "mimetype": "text/x-python",
   "name": "python",
   "nbconvert_exporter": "python",
   "pygments_lexer": "ipython3",
   "version": "3.11.2"
  }
 },
 "nbformat": 4,
 "nbformat_minor": 5
}
