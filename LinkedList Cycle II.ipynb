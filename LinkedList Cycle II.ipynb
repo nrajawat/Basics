{
 "cells": [
  {
   "cell_type": "code",
   "execution_count": 3,
   "id": "51756e27",
   "metadata": {},
   "outputs": [],
   "source": [
    "class ListNode:\n",
    "     def __init__(self, x):\n",
    "            self.val = x\n",
    "            self.next = None\n",
    "\n",
    "class Solution:\n",
    "    def detectCycle(self, head: Optional[ListNode]) -> bool:\n",
    "        if not head or not head.next:\n",
    "            return False\n",
    "        \n",
    "        temp = ListNode()  # Create a temporary node\n",
    "        while head:\n",
    "            if head.next is None:\n",
    "                return False\n",
    "            \n",
    "            if head.next is temp:\n",
    "                return True\n",
    "            \n",
    "            next_node = head.next\n",
    "            head.next = temp\n",
    "            head = next_node\n",
    "        \n",
    "        return False"
   ]
  },
  {
   "cell_type": "code",
   "execution_count": 2,
   "id": "c799428b",
   "metadata": {},
   "outputs": [],
   "source": [
    "from typing import Optional\n",
    "\n",
    "class ListNode:\n",
    "    def __init__(self, val=0, next=None):\n",
    "        self.val = val\n",
    "        self.next = next\n",
    "\n",
    "class Solution:\n",
    "    def hasCycle(self, head: Optional[ListNode]) -> bool:\n",
    "        if not head or not head.next:\n",
    "            return False\n",
    "        \n",
    "        temp = ListNode()  # Create a temporary node\n",
    "        while head:\n",
    "            if head.next is None:\n",
    "                return False\n",
    "            \n",
    "            if head.next is temp:\n",
    "                return True\n",
    "            \n",
    "            next_node = head.next\n",
    "            head.next = temp\n",
    "            head = next_node\n",
    "        \n",
    "        return False"
   ]
  },
  {
   "cell_type": "code",
   "execution_count": null,
   "id": "478fca05",
   "metadata": {},
   "outputs": [],
   "source": []
  }
 ],
 "metadata": {
  "kernelspec": {
   "display_name": "Python 3 (ipykernel)",
   "language": "python",
   "name": "python3"
  },
  "language_info": {
   "codemirror_mode": {
    "name": "ipython",
    "version": 3
   },
   "file_extension": ".py",
   "mimetype": "text/x-python",
   "name": "python",
   "nbconvert_exporter": "python",
   "pygments_lexer": "ipython3",
   "version": "3.11.2"
  }
 },
 "nbformat": 4,
 "nbformat_minor": 5
}
