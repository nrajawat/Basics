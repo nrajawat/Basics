{
 "cells": [
  {
   "cell_type": "markdown",
   "id": "e0017d68",
   "metadata": {},
   "source": [
    "# LinkedList Operations"
   ]
  },
  {
   "cell_type": "code",
   "execution_count": null,
   "id": "01412cf4",
   "metadata": {},
   "outputs": [],
   "source": [
    "class Node:\n",
    "    \n",
    "    def __init__(self, data):\n",
    "        self.data = data\n",
    "        self.next = None\n",
    "        \n",
    "class LinkedList:\n",
    "    \n",
    "    def __init__(self):\n",
    "        self.head = None\n",
    "        \n",
    "    def push(self, new_data):\n",
    "        \n",
    "        new_node = Node(new_data)\n",
    "        new_node.next = self. head\n",
    "        self.head = new_node\n",
    "        \n",
    "    def insert(self, prev_node, new_node):\n",
    "        "
   ]
  }
 ],
 "metadata": {
  "kernelspec": {
   "display_name": "Python 3 (ipykernel)",
   "language": "python",
   "name": "python3"
  },
  "language_info": {
   "codemirror_mode": {
    "name": "ipython",
    "version": 3
   },
   "file_extension": ".py",
   "mimetype": "text/x-python",
   "name": "python",
   "nbconvert_exporter": "python",
   "pygments_lexer": "ipython3",
   "version": "3.11.2"
  }
 },
 "nbformat": 4,
 "nbformat_minor": 5
}
