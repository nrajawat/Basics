{
 "cells": [
  {
   "cell_type": "code",
   "execution_count": 8,
   "id": "3b67d275",
   "metadata": {},
   "outputs": [
    {
     "name": "stdout",
     "output_type": "stream",
     "text": [
      "15\n",
      "3\n",
      "5\n",
      "1\n",
      "2\n",
      "Fizz\n",
      "4\n",
      "Buzz\n",
      "Fizz\n",
      "7\n",
      "8\n",
      "Fizz\n",
      "Buzz\n",
      "11\n",
      "Fizz\n",
      "13\n",
      "14\n",
      "FizzBuzz\n"
     ]
    }
   ],
   "source": [
    "def fizzBuzz(n):\n",
    "    \n",
    "    Fizz =  int(input().strip())\n",
    "    Buzz = int(input().strip())\n",
    "    \n",
    "    for i in range(1, n+1):\n",
    "        if i% Fizz == 0 and i% Buzz == 0 and i% (Fizz * Buzz) == 0:\n",
    "            print(\"FizzBuzz\")\n",
    "            \n",
    "        elif i% Fizz == 0:\n",
    "            print(\"Fizz\")\n",
    "            \n",
    "        elif i% Buzz == 0:\n",
    "            print(\"Buzz\")\n",
    "            \n",
    "        else:\n",
    "            print(i)\n",
    "\n",
    "if __name__ == '__main__':\n",
    "    n = []\n",
    "    n = int(input().strip())\n",
    "\n",
    "    fizzBuzz(n)\n"
   ]
  },
  {
   "cell_type": "code",
   "execution_count": 22,
   "id": "5d5502ec",
   "metadata": {},
   "outputs": [
    {
     "name": "stdout",
     "output_type": "stream",
     "text": [
      "Enter a number: 21\n",
      "Multiples of 21 are: [1, 3, 7, 21]\n",
      "1\n",
      "1\n",
      "2\n",
      "Fizz\n",
      "1\n",
      "2\n",
      "Fizz\n",
      "4\n",
      "Buzz\n",
      "Fizz\n",
      "7\n",
      "1\n",
      "2\n",
      "Fizz\n",
      "4\n",
      "Buzz\n",
      "Fizz\n",
      "7\n",
      "8\n",
      "Fizz\n",
      "Buzz\n",
      "11\n",
      "Fizz\n",
      "13\n",
      "14\n",
      "FizzBuzz\n",
      "16\n",
      "17\n",
      "Fizz\n",
      "19\n",
      "Buzz\n",
      "Fizz\n"
     ]
    }
   ],
   "source": [
    "def fizzBuzz(n):\n",
    "  \n",
    "    \n",
    "    for i in range(1, n+1):\n",
    "        if i% Fizz == 0 and i% Buzz == 0 and i% (Fizz * Buzz) == 0:\n",
    "            print(\"FizzBuzz\")\n",
    "            \n",
    "        elif i% Fizz == 0:\n",
    "            print(\"Fizz\")\n",
    "            \n",
    "        elif i% Buzz == 0:\n",
    "            print(\"Buzz\")\n",
    "            \n",
    "        else:\n",
    "            print(i)\n",
    "\n",
    "# Take input from the user\n",
    "number = int(input(\"Enter a number: \"))\n",
    "\n",
    "# Find the multiples\n",
    "multiples = []\n",
    "for i in range(1, number + 1):\n",
    "    if number % i == 0:\n",
    "        multiples.append(i)\n",
    "\n",
    "# Display the multiples\n",
    "print(\"Multiples of\", number, \"are:\", multiples)\n",
    "\n",
    "# Apply FizzBuzz with the multiples\n",
    "for num in multiples:\n",
    "    fizzbuzz(num)\n"
   ]
  },
  {
   "cell_type": "code",
   "execution_count": null,
   "id": "97865d30",
   "metadata": {},
   "outputs": [],
   "source": []
  }
 ],
 "metadata": {
  "kernelspec": {
   "display_name": "Python 3 (ipykernel)",
   "language": "python",
   "name": "python3"
  },
  "language_info": {
   "codemirror_mode": {
    "name": "ipython",
    "version": 3
   },
   "file_extension": ".py",
   "mimetype": "text/x-python",
   "name": "python",
   "nbconvert_exporter": "python",
   "pygments_lexer": "ipython3",
   "version": "3.11.2"
  }
 },
 "nbformat": 4,
 "nbformat_minor": 5
}
