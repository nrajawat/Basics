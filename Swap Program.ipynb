{
 "cells": [
  {
   "cell_type": "markdown",
   "id": "2fa765e6",
   "metadata": {},
   "source": [
    "# Swapping 2-numbers Program"
   ]
  },
  {
   "cell_type": "code",
   "execution_count": 33,
   "id": "460dfc25",
   "metadata": {},
   "outputs": [
    {
     "name": "stdout",
     "output_type": "stream",
     "text": [
      "enter first number:10\n",
      "enter second number:20\n",
      "numbers before swap: a= 10 and b= 20\n",
      "numbers after swap:  a= 20 and b= 10\n"
     ]
    }
   ],
   "source": [
    "# Method:1.Swapping using Bitwise Operator\n",
    "\n",
    "a=int(input(\"enter first number:\"))\n",
    "b=int(input(\"enter second number:\"))\n",
    "\n",
    "print(\"numbers before swap: a=\", a, \"and b=\", b)\n",
    "\n",
    "a = (a & b) + (a | b)\n",
    "b = a + (~b) + 1\n",
    "a = a + (~b) + 1\n",
    "\n",
    "print(\"numbers after swap:  a=\", a, \"and b=\", b)"
   ]
  },
  {
   "cell_type": "code",
   "execution_count": 34,
   "id": "4f2530b3",
   "metadata": {},
   "outputs": [
    {
     "name": "stdout",
     "output_type": "stream",
     "text": [
      "enter first number:10\n",
      "enter second number:20\n",
      "numbers before swap: a= 10 and b= 20\n",
      "numbers after swap:  a= 20.0 and b= 10.0\n"
     ]
    }
   ],
   "source": [
    "# Method:2.Swap using Division & Multiplication\n",
    "\n",
    "a=int(input(\"enter first number:\"))\n",
    "b=int(input(\"enter second number:\"))\n",
    "\n",
    "print(\"numbers before swap: a=\", a, \"and b=\", b)\n",
    "\n",
    "a=a*b\n",
    "b=a/b\n",
    "a=a/b\n",
    "\n",
    "print(\"numbers after swap:  a=\", a, \"and b=\", b)"
   ]
  },
  {
   "cell_type": "code",
   "execution_count": 35,
   "id": "4b99ee65",
   "metadata": {},
   "outputs": [
    {
     "name": "stdout",
     "output_type": "stream",
     "text": [
      "enter first number:10\n",
      "enter second number:20\n",
      "numbers before swap: a= 10 and b= 20\n",
      "numbers after swap:  a= 20 and b= 10\n"
     ]
    }
   ],
   "source": [
    "# Method:3. Swapping numbers using XOR\n",
    "\n",
    "a=int(input(\"enter first number:\"))\n",
    "b=int(input(\"enter second number:\"))\n",
    "\n",
    "print(\"numbers before swap: a=\", a, \"and b=\", b)\n",
    "\n",
    "a=a^b\n",
    "b=a^b\n",
    "a=a^b\n",
    "\n",
    "print(\"numbers after swap:  a=\", a, \"and b=\", b)"
   ]
  },
  {
   "cell_type": "code",
   "execution_count": 36,
   "id": "0b05f384",
   "metadata": {},
   "outputs": [
    {
     "name": "stdout",
     "output_type": "stream",
     "text": [
      "enter first number:10\n",
      "enter second number:20\n",
      "numbers before swap: a= 10 and b= 20\n",
      "numbers after swap:  a= 20 and b= 10\n"
     ]
    }
   ],
   "source": [
    "#Method:4.Swapping numbers using Comma operator\n",
    "\n",
    "a=int(input(\"enter first number:\"))\n",
    "b=int(input(\"enter second number:\"))\n",
    "\n",
    "print(\"numbers before swap: a=\", a, \"and b=\", b)\n",
    "\n",
    "a, b = b, a\n",
    "\n",
    "print(\"numbers after swap:  a=\", a, \"and b=\", b)"
   ]
  },
  {
   "cell_type": "code",
   "execution_count": 38,
   "id": "502822d2",
   "metadata": {},
   "outputs": [
    {
     "name": "stdout",
     "output_type": "stream",
     "text": [
      "enter first number:10\n",
      "enter second number:20\n",
      "numbers before swap: a= 10 and b= 20\n",
      "swapped numbers are: a= 20 and b= 10\n"
     ]
    }
   ],
   "source": [
    "# Method:5.Swap numbers without using third variable\n",
    "\n",
    "a=int(input(\"enter first number:\"))\n",
    "b=int(input(\"enter second number:\"))\n",
    "\n",
    "print(\"numbers before swap: a=\", a, \"and b=\", b)\n",
    "\n",
    "a=a+b\n",
    "b=a-b\n",
    "a=a-b\n",
    "\n",
    "print(\"swapped numbers are: a=\",a,\"and b=\",b)"
   ]
  },
  {
   "cell_type": "code",
   "execution_count": 39,
   "id": "d9baad25",
   "metadata": {},
   "outputs": [
    {
     "name": "stdout",
     "output_type": "stream",
     "text": [
      "enter first number:10\n",
      "enter second number:20\n",
      "numbers before swap: a= 10 and b= 20\n",
      "20 10\n"
     ]
    }
   ],
   "source": [
    "# Method:6.Swap numbers\n",
    "\n",
    "a=int(input(\"enter first number:\"))\n",
    "b=int(input(\"enter second number:\"))\n",
    "\n",
    "print(\"numbers before swap: a=\", a, \"and b=\", b)\n",
    "\n",
    "t=a\n",
    "a=b\n",
    "b=t\n",
    "\n",
    "print(a,b)"
   ]
  },
  {
   "cell_type": "code",
   "execution_count": null,
   "id": "7102c67b",
   "metadata": {},
   "outputs": [],
   "source": []
  }
 ],
 "metadata": {
  "kernelspec": {
   "display_name": "Python 3 (ipykernel)",
   "language": "python",
   "name": "python3"
  },
  "language_info": {
   "codemirror_mode": {
    "name": "ipython",
    "version": 3
   },
   "file_extension": ".py",
   "mimetype": "text/x-python",
   "name": "python",
   "nbconvert_exporter": "python",
   "pygments_lexer": "ipython3",
   "version": "3.11.2"
  }
 },
 "nbformat": 4,
 "nbformat_minor": 5
}
