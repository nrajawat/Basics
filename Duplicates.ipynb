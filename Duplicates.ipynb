{
 "cells": [
  {
   "cell_type": "code",
   "execution_count": 1,
   "id": "3737f0f3",
   "metadata": {},
   "outputs": [
    {
     "name": "stdout",
     "output_type": "stream",
     "text": [
      "Enter numbers separated by commas and spaces: 1 2 3 4 4 5\n",
      "nums = [1, 2, 3, 4, 4, 5]\n",
      "true\n"
     ]
    }
   ],
   "source": [
    "import re\n",
    "from collections import Counter\n",
    "\n",
    "class Solution:\n",
    "    def containsDuplicate(self, nums):\n",
    "        count_dict = Counter(nums)\n",
    "        \n",
    "        for count in count_dict.values():\n",
    "            if count > 1:\n",
    "                return True\n",
    "        \n",
    "        return False\n",
    "\n",
    "input_str = input(\"Enter numbers separated by commas and spaces: \")\n",
    "nums = re.findall(r'\\d+', input_str)\n",
    "nums = [int(num) for num in nums]\n",
    "print(\"nums =\", nums)\n",
    "\n",
    "solution = Solution()\n",
    "if solution.containsDuplicate(nums):\n",
    "    print(\"true\")\n",
    "else:\n",
    "    print(\"false\")\n"
   ]
  },
  {
   "cell_type": "code",
   "execution_count": 2,
   "id": "6d769735",
   "metadata": {},
   "outputs": [],
   "source": [
    "from typing import List\n",
    "\n",
    "class Solution:\n",
    "    def containsDuplicate(self, nums: List[int]) -> bool:\n",
    "        seen = set()\n",
    "        for num in nums:\n",
    "            if num in seen:\n",
    "                return True\n",
    "            seen.add(num)\n",
    "        return False\n"
   ]
  },
  {
   "cell_type": "code",
   "execution_count": null,
   "id": "5864d831",
   "metadata": {},
   "outputs": [],
   "source": []
  }
 ],
 "metadata": {
  "kernelspec": {
   "display_name": "Python 3 (ipykernel)",
   "language": "python",
   "name": "python3"
  },
  "language_info": {
   "codemirror_mode": {
    "name": "ipython",
    "version": 3
   },
   "file_extension": ".py",
   "mimetype": "text/x-python",
   "name": "python",
   "nbconvert_exporter": "python",
   "pygments_lexer": "ipython3",
   "version": "3.11.2"
  }
 },
 "nbformat": 4,
 "nbformat_minor": 5
}
