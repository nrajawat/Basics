{
 "cells": [
  {
   "cell_type": "code",
   "execution_count": 1,
   "id": "f1232d83",
   "metadata": {},
   "outputs": [],
   "source": [
    "class ListNode:\n",
    "    def __init__(self, val=0, next=None):\n",
    "        self.val = val\n",
    "        self.next = next\n",
    "\n",
    "class Solution:\n",
    "    def deleteDuplicates(self, head: ListNode) -> ListNode:\n",
    "        # Base case: empty or single-node linked list\n",
    "        if not head or not head.next:\n",
    "            return head\n",
    "        \n",
    "        # Create a dummy node to handle the head\n",
    "        dummy = ListNode(0)\n",
    "        dummy.next = head\n",
    "        \n",
    "        # Current pointer\n",
    "        curr = dummy.next\n",
    "        \n",
    "        while curr and curr.next:\n",
    "            # Check if the current value is equal to the next value\n",
    "            if curr.val == curr.next.val:\n",
    "                # Remove the duplicate node by adjusting pointers\n",
    "                curr.next = curr.next.next\n",
    "            else:\n",
    "                # Move to the next node\n",
    "                curr = curr.next\n",
    "        \n",
    "        return dummy.next\n"
   ]
  },
  {
   "cell_type": "code",
   "execution_count": 2,
   "id": "de841ae1",
   "metadata": {},
   "outputs": [
    {
     "name": "stdout",
     "output_type": "stream",
     "text": [
      "1 -> 2 -> 3 -> "
     ]
    }
   ],
   "source": [
    "# Create a sorted linked list: 1 -> 1 -> 2 -> 3 -> 3\n",
    "head = ListNode(1)\n",
    "node1 = ListNode(1)\n",
    "node2 = ListNode(2)\n",
    "node3 = ListNode(3)\n",
    "node4 = ListNode(3)\n",
    "\n",
    "head.next = node1\n",
    "node1.next = node2\n",
    "node2.next = node3\n",
    "node3.next = node4\n",
    "\n",
    "# Create an instance of the Solution class\n",
    "solution = Solution()\n",
    "\n",
    "# Delete duplicates and obtain the modified sorted linked list\n",
    "new_head = solution.deleteDuplicates(head)\n",
    "\n",
    "# Print the modified sorted linked list\n",
    "curr = new_head\n",
    "while curr:\n",
    "    print(curr.val, end=\" -> \")\n",
    "    curr = curr.next\n"
   ]
  },
  {
   "cell_type": "code",
   "execution_count": 4,
   "id": "8027f8b5",
   "metadata": {},
   "outputs": [],
   "source": [
    "from typing import Optional\n",
    "\n",
    "class ListNode:\n",
    "    def __init__(self, val=0, next=None):\n",
    "        self.val = val\n",
    "        self.next = next\n",
    "\n",
    "class Solution:\n",
    "    def hasCycle(self, head: Optional[ListNode]) -> bool:\n",
    "        if not head or not head.next:\n",
    "            return False\n",
    "        \n",
    "        temp = ListNode()  # Create a temporary node\n",
    "        while head:\n",
    "            if head.next is None:\n",
    "                return False\n",
    "            \n",
    "            if head.next is temp:\n",
    "                return True\n",
    "            \n",
    "            next_node = head.next\n",
    "            head.next = temp\n",
    "            head = next_node\n",
    "        \n",
    "        return False\n"
   ]
  },
  {
   "cell_type": "code",
   "execution_count": 17,
   "id": "53b1f8f7",
   "metadata": {},
   "outputs": [
    {
     "ename": "NameError",
     "evalue": "name 'createCycle' is not defined",
     "output_type": "error",
     "traceback": [
      "\u001b[0;31m---------------------------------------------------------------------------\u001b[0m",
      "\u001b[0;31mNameError\u001b[0m                                 Traceback (most recent call last)",
      "Cell \u001b[0;32mIn[17], line 14\u001b[0m\n\u001b[1;32m     10\u001b[0m         \u001b[38;5;28;01mreturn\u001b[39;00m slow\n\u001b[1;32m     12\u001b[0m pos \u001b[38;5;241m=\u001b[39m \u001b[38;5;241m1\u001b[39m\n\u001b[0;32m---> 14\u001b[0m head \u001b[38;5;241m=\u001b[39m \u001b[43mcreateCycle\u001b[49m(head, pos)\n\u001b[1;32m     15\u001b[0m cycle_start \u001b[38;5;241m=\u001b[39m detectCycle(head)\n\u001b[1;32m     17\u001b[0m \u001b[38;5;28;01mif\u001b[39;00m cycle_start:\n",
      "\u001b[0;31mNameError\u001b[0m: name 'createCycle' is not defined"
     ]
    }
   ],
   "source": [
    "class ListNode:\n",
    "     def __init__(self, x):\n",
    "        self.val = x\n",
    "        self.next = None\n",
    "\n",
    "class Solution:\n",
    "    def detectCycle(self, head: Optional[ListNode]) -> bool:\n",
    "        \n",
    "        \n",
    "        \n",
    "        return slow\n",
    "\n",
    "pos = 1\n",
    "\n",
    "head = createCycle(head, pos)\n",
    "cycle_start = detectCycle(head)\n",
    "\n",
    "if cycle_start:\n",
    "    print(\"The cycle starts at node with value:\", cycle_start.val)\n",
    "else:\n",
    "    print(\"The linked list does not contain a cycle.\")\n"
   ]
  },
  {
   "cell_type": "code",
   "execution_count": 6,
   "id": "59c4d5f4",
   "metadata": {},
   "outputs": [],
   "source": [
    "class Solution:\n",
    "    def reverseList(self, head: Optional[ListNode]) -> bool:\n",
    "        self.val = val\n",
    "        self.next = next\n",
    "        \n",
    "        if not head or not head.next:\n",
    "            return head\n",
    "        \n",
    "        temp = ListNode()\n",
    "        pre = None\n",
    "        curr = head\n",
    "        \n",
    "        while head: \n",
    "            if head.next is None:\n",
    "                return head\n",
    "            else: \n",
    "                \n",
    "                next_node = curr.next\n",
    "                curr.next = prev\n",
    "                prev = curr\n",
    "                curr = next_node\n",
    "    \n",
    "        return prev\n",
    "\n",
    "        "
   ]
  },
  {
   "cell_type": "code",
   "execution_count": 7,
   "id": "225f6041",
   "metadata": {},
   "outputs": [],
   "source": [
    "# Reverse the LinkedList\n",
    "\n",
    "class ListNode:\n",
    "    def __init__(self, val=0, next=None):\n",
    "        self.val = val\n",
    "        self.next = next\n",
    "\n",
    "class Solution:\n",
    "    def reverseList(self, head: Optional[ListNode]) -> Optional[ListNode]:\n",
    "        if not head or not head.next:\n",
    "            return head\n",
    "        \n",
    "        prev = None\n",
    "        curr = head\n",
    "\n",
    "        while curr:\n",
    "            next_node = curr.next\n",
    "            curr.next = prev\n",
    "            prev = curr\n",
    "            curr = next_node\n",
    "        \n",
    "        return prev"
   ]
  },
  {
   "cell_type": "code",
   "execution_count": null,
   "id": "55ca0899",
   "metadata": {},
   "outputs": [],
   "source": []
  }
 ],
 "metadata": {
  "kernelspec": {
   "display_name": "Python 3 (ipykernel)",
   "language": "python",
   "name": "python3"
  },
  "language_info": {
   "codemirror_mode": {
    "name": "ipython",
    "version": 3
   },
   "file_extension": ".py",
   "mimetype": "text/x-python",
   "name": "python",
   "nbconvert_exporter": "python",
   "pygments_lexer": "ipython3",
   "version": "3.11.2"
  }
 },
 "nbformat": 4,
 "nbformat_minor": 5
}
