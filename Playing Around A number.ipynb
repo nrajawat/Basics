{
 "cells": [
  {
   "cell_type": "markdown",
   "id": "3d782b56",
   "metadata": {},
   "source": [
    "# Playing Around A number"
   ]
  },
  {
   "cell_type": "code",
   "execution_count": 31,
   "id": "00136d32",
   "metadata": {},
   "outputs": [
    {
     "name": "stdout",
     "output_type": "stream",
     "text": [
      "enter a number:153\n",
      "Armstrong Number\n"
     ]
    }
   ],
   "source": [
    "# Binary to Decimal \n",
    "\n",
    "n = int(input(\"enter a number:\"))\n",
    "\n",
    "t = n\n",
    "\n",
    "while(n!=0):\n",
    "    "
   ]
  },
  {
   "cell_type": "code",
   "execution_count": 36,
   "id": "f1d5fe1a",
   "metadata": {},
   "outputs": [
    {
     "name": "stdout",
     "output_type": "stream",
     "text": [
      "Enter a number:123\n"
     ]
    },
    {
     "ename": "TypeError",
     "evalue": "object of type 'int' has no len()",
     "output_type": "error",
     "traceback": [
      "\u001b[0;31m---------------------------------------------------------------------------\u001b[0m",
      "\u001b[0;31mTypeError\u001b[0m                                 Traceback (most recent call last)",
      "Cell \u001b[0;32mIn[36], line 4\u001b[0m\n\u001b[1;32m      1\u001b[0m n \u001b[38;5;241m=\u001b[39m \u001b[38;5;28mint\u001b[39m(\u001b[38;5;28minput\u001b[39m(\u001b[38;5;124m\"\u001b[39m\u001b[38;5;124mEnter a number:\u001b[39m\u001b[38;5;124m\"\u001b[39m))\n\u001b[1;32m      3\u001b[0m t\u001b[38;5;241m=\u001b[39mn\n\u001b[0;32m----> 4\u001b[0m \u001b[38;5;28mprint\u001b[39m(\u001b[38;5;28;43mlen\u001b[39;49m\u001b[43m(\u001b[49m\u001b[43mn\u001b[49m\u001b[43m)\u001b[49m)\n",
      "\u001b[0;31mTypeError\u001b[0m: object of type 'int' has no len()"
     ]
    }
   ],
   "source": []
  },
  {
   "cell_type": "code",
   "execution_count": 44,
   "id": "6c6004c8",
   "metadata": {},
   "outputs": [
    {
     "name": "stdout",
     "output_type": "stream",
     "text": [
      "Enter a number: 12\n",
      "Jumping Numbers:\n",
      "1\n",
      "2\n",
      "3\n",
      "4\n",
      "5\n",
      "6\n",
      "7\n",
      "8\n",
      "9\n",
      "10\n",
      "12\n"
     ]
    }
   ],
   "source": [
    "def is_jumping_number(n):\n",
    "    sn = str(n)\n",
    "    l = len(sn)\n",
    "    \n",
    "    for i in range(l - 1):\n",
    "        diff = abs(int(sn[i]) - int(sn[i+1]))\n",
    "        if diff != 1:\n",
    "            return False\n",
    "    \n",
    "    return True\n",
    "\n",
    "\n",
    "n = int(input(\"Enter a number: \"))\n",
    "jn = []\n",
    "\n",
    "for num in range(1, n+1):\n",
    "    if is_jumping_number(num):\n",
    "        jn.append(num)\n",
    "\n",
    "print(\"Jumping Numbers:\")\n",
    "print(*jn, sep=\"\\n\")\n"
   ]
  },
  {
   "cell_type": "code",
   "execution_count": 32,
   "id": "5c989b9d",
   "metadata": {},
   "outputs": [
    {
     "name": "stdout",
     "output_type": "stream",
     "text": [
      "enter a number:153\n",
      "Armstrong Number\n"
     ]
    }
   ],
   "source": [
    "# Armstrong Number\n",
    "\n",
    "n = int(input(\"enter a number:\"))\n",
    "t=n\n",
    "s=0\n",
    "\n",
    "while(n!=0):\n",
    "    r = n%10\n",
    "    r = r*r*r\n",
    "    s=s+r\n",
    "    n = n//10\n",
    "    \n",
    "if (s == t):\n",
    "    print(\"Armstrong Number\")\n",
    "    \n",
    "else:\n",
    "    print(\"Not an Armstrong Number\")\n"
   ]
  },
  {
   "cell_type": "code",
   "execution_count": 25,
   "id": "2ef37457",
   "metadata": {},
   "outputs": [
    {
     "name": "stdout",
     "output_type": "stream",
     "text": [
      "enter a number:121121\n",
      "palindrome\n"
     ]
    }
   ],
   "source": [
    "# Palindrome Number\n",
    "\n",
    "n = int(input(\"enter a number:\"))\n",
    "\n",
    "t = n\n",
    "\n",
    "rev=0\n",
    "\n",
    "while(n!=0):\n",
    "    r = n%10\n",
    "    rev = rev*10+r\n",
    "    n = n//10\n",
    "    \n",
    "if (rev == t):\n",
    "    print(\"palindrome\")\n",
    "    \n",
    "else:\n",
    "    print(\"Not a palindrome\")\n"
   ]
  },
  {
   "cell_type": "code",
   "execution_count": 22,
   "id": "6ae52aba",
   "metadata": {},
   "outputs": [
    {
     "name": "stdout",
     "output_type": "stream",
     "text": [
      "enter a number:12345\n",
      "enter kth digit:2\n",
      "4\n"
     ]
    }
   ],
   "source": [
    "# kth digit of a number\n",
    "\n",
    "n = int(input(\"enter a number:\"))\n",
    "k = int(input(\"enter kth digit:\"))\n",
    "\n",
    "if (k<=0):\n",
    "    print(-1)\n",
    "    \n",
    "while ((k-1)>0 and n>0):\n",
    "    n= n/10\n",
    "    k -= 1\n",
    "    \n",
    "if (n==0):\n",
    "    print(-1)\n",
    "    \n",
    "else:\n",
    "    print(int(n%10))\n",
    "    "
   ]
  },
  {
   "cell_type": "code",
   "execution_count": 16,
   "id": "c2c4fac9",
   "metadata": {},
   "outputs": [
    {
     "name": "stdout",
     "output_type": "stream",
     "text": [
      "enter a number:12345\n",
      "Reversed number: 54321\n"
     ]
    }
   ],
   "source": [
    "# Reverse the number\n",
    "\n",
    "n = int(input(\"enter a number:\"))\n",
    "\n",
    "s=0\n",
    "\n",
    "while(n!=0):\n",
    "    r = n%10\n",
    "    s = s*10+r\n",
    "    n = n//10\n",
    "\n",
    "print(\"Reversed number:\",s)\n"
   ]
  },
  {
   "cell_type": "code",
   "execution_count": null,
   "id": "929f2d3d",
   "metadata": {},
   "outputs": [],
   "source": []
  },
  {
   "cell_type": "code",
   "execution_count": 18,
   "id": "2d21d99f",
   "metadata": {},
   "outputs": [
    {
     "name": "stdout",
     "output_type": "stream",
     "text": [
      "enter a number:12345\n",
      "sum of digits: 15\n"
     ]
    }
   ],
   "source": [
    "# Sum of digits\n",
    "\n",
    "n = int(input(\"enter a number:\"))\n",
    "\n",
    "s=0\n",
    "\n",
    "while(n!=0):\n",
    "    r = n%10\n",
    "    s = s+r\n",
    "    n = n//10\n",
    "\n",
    "print(\"sum of digits:\", s)\n"
   ]
  },
  {
   "cell_type": "code",
   "execution_count": null,
   "id": "2c79054f",
   "metadata": {},
   "outputs": [],
   "source": []
  }
 ],
 "metadata": {
  "kernelspec": {
   "display_name": "Python 3 (ipykernel)",
   "language": "python",
   "name": "python3"
  },
  "language_info": {
   "codemirror_mode": {
    "name": "ipython",
    "version": 3
   },
   "file_extension": ".py",
   "mimetype": "text/x-python",
   "name": "python",
   "nbconvert_exporter": "python",
   "pygments_lexer": "ipython3",
   "version": "3.11.2"
  }
 },
 "nbformat": 4,
 "nbformat_minor": 5
}
